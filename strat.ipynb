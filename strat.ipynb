{
 "cells": [
  {
   "cell_type": "code",
   "execution_count": 149,
   "metadata": {},
   "outputs": [],
   "source": [
    "from scipy.stats import norm\n",
    "import numpy as np\n",
    "import pandas as pd\n",
    "from matplotlib import pyplot as plt"
   ]
  },
  {
   "cell_type": "code",
   "execution_count": 150,
   "metadata": {},
   "outputs": [
    {
     "data": {
      "text/html": [
       "<div>\n",
       "<style scoped>\n",
       "    .dataframe tbody tr th:only-of-type {\n",
       "        vertical-align: middle;\n",
       "    }\n",
       "\n",
       "    .dataframe tbody tr th {\n",
       "        vertical-align: top;\n",
       "    }\n",
       "\n",
       "    .dataframe thead th {\n",
       "        text-align: right;\n",
       "    }\n",
       "</style>\n",
       "<table border=\"1\" class=\"dataframe\">\n",
       "  <thead>\n",
       "    <tr style=\"text-align: right;\">\n",
       "      <th></th>\n",
       "      <th>count</th>\n",
       "      <th>mean</th>\n",
       "      <th>var</th>\n",
       "    </tr>\n",
       "    <tr>\n",
       "      <th>region</th>\n",
       "      <th></th>\n",
       "      <th></th>\n",
       "      <th></th>\n",
       "    </tr>\n",
       "  </thead>\n",
       "  <tbody>\n",
       "    <tr>\n",
       "      <th>NC</th>\n",
       "      <td>1054</td>\n",
       "      <td>325950.957306</td>\n",
       "      <td>7.360554e+10</td>\n",
       "    </tr>\n",
       "    <tr>\n",
       "      <th>NE</th>\n",
       "      <td>220</td>\n",
       "      <td>90618.963636</td>\n",
       "      <td>6.298874e+09</td>\n",
       "    </tr>\n",
       "    <tr>\n",
       "      <th>S</th>\n",
       "      <td>1382</td>\n",
       "      <td>199140.437048</td>\n",
       "      <td>5.951470e+10</td>\n",
       "    </tr>\n",
       "    <tr>\n",
       "      <th>W</th>\n",
       "      <td>422</td>\n",
       "      <td>723343.964455</td>\n",
       "      <td>6.982924e+11</td>\n",
       "    </tr>\n",
       "  </tbody>\n",
       "</table>\n",
       "</div>"
      ],
      "text/plain": [
       "        count           mean           var\n",
       "region                                    \n",
       "NC       1054  325950.957306  7.360554e+10\n",
       "NE        220   90618.963636  6.298874e+09\n",
       "S        1382  199140.437048  5.951470e+10\n",
       "W         422  723343.964455  6.982924e+11"
      ]
     },
     "execution_count": 150,
     "metadata": {},
     "output_type": "execute_result"
    }
   ],
   "source": [
    "agpop = pd.read_csv(\"data/agpop.csv\", usecols=[\"acres92\", \"region\"])\n",
    "regions_pop = agpop.groupby(\"region\").agg([\"count\", \"mean\", \"var\"]).acres92\n",
    "regions_pop"
   ]
  },
  {
   "cell_type": "code",
   "execution_count": 151,
   "metadata": {},
   "outputs": [
    {
     "name": "stdout",
     "output_type": "stream",
     "text": [
      "var_ratio = 0.86\n"
     ]
    }
   ],
   "source": [
    "rng = np.random.default_rng(42)\n",
    "n_iter = 1000\n",
    "\n",
    "simple_sample_means = np.zeros(n_iter)\n",
    "strat_sample_means = np.zeros(n_iter)\n",
    "\n",
    "for i in range(n_iter):\n",
    "    simple_sample = agpop.sample(frac=0.1, random_state=rng)\n",
    "    simple_sample_means[i] = simple_sample.acres92.mean()\n",
    "    strat_sample = agpop.groupby(\"region\").sample(frac=0.1, random_state=rng)\n",
    "    strat_sample_means[i] = strat_sample.acres92.mean()\n",
    "\n",
    "var_ratio = strat_sample_means.var()/simple_sample_means.var()\n",
    "print(f\"var_ratio = {var_ratio:.2f}\")"
   ]
  },
  {
   "cell_type": "markdown",
   "metadata": {},
   "source": []
  },
  {
   "cell_type": "code",
   "execution_count": 152,
   "metadata": {},
   "outputs": [],
   "source": [
    "import numpy as np\n",
    "import pandas as pd\n",
    "from matplotlib import pyplot as plt"
   ]
  },
  {
   "cell_type": "code",
   "execution_count": 153,
   "metadata": {},
   "outputs": [
    {
     "data": {
      "image/png": "[encoded data removed]",
      "text/plain": [
       "<Figure size 640x480 with 1 Axes>"
      ]
     },
     "metadata": {},
     "output_type": "display_data"
    }
   ],
   "source": [
    "def make_srs(n, p, m0, s0, m1, s1, rng):\n",
    "    X0 = rng.normal(m0, s0, size=n)\n",
    "    X1 = rng.normal(m1, s1, size=n)\n",
    "    Y = 1*(rng.uniform(size=n) < p)\n",
    "    X = (1 - Y)*X0 + Y*X1\n",
    "    return X\n",
    "\n",
    "def make_strat(n, p, m0, s0, m1, s1, rng):\n",
    "    n0 = int(p*n)\n",
    "    n1 = n - n0\n",
    "    X0 = rng.normal(m0, s0, size=n0)\n",
    "    X1 = rng.normal(m1, s1, size=n1)\n",
    "    return np.concatenate([X0, X1])\n",
    "\n",
    "rng = np.random.default_rng(42)\n",
    "n = 100\n",
    "n_iter = 10000\n",
    "means_srs = np.zeros(n_iter)\n",
    "means_strat = np.zeros(n_iter)\n",
    "\n",
    "for i in range(n_iter):\n",
    "    x = make_srs(n, 0.7, 0, 0.5, 2, 0.5, rng)\n",
    "    means_srs[i] = x.mean()\n",
    "    x = make_strat(n, 0.7, 0, 0.5, 2, 0.5, rng)\n",
    "    means_strat[i] = x.mean()\n",
    "label = f\"simple random sampling\\nm = {means_srs.mean():.4f}, s = {means_srs.std():.4f}\"\n",
    "_, bins, __ = plt.hist(means_srs, bins=50, label=label, alpha=0.7)\n",
    "label = f\"stratirfied sampling\\nm = {means_strat.mean():.4f}, s = {means_strat.std():.4f}\"\n",
    "plt.hist(means_strat, bins=bins, label=label, alpha=0.7)\n",
    "plt.title(\"Sampling Distributions\")\n",
    "plt.legend();"
   ]
  },
  {
   "cell_type": "markdown",
   "metadata": {},
   "source": [
    "A mixture of two Gaussians:\n",
    "\n",
    "Suppose:\n",
    "$$\n",
    "\\begin{aligned}\n",
    "Y_i&\\sim \\operatorname{Bernoulli}(p)\\\\\n",
    "X_i|Y_i=0&\\sim \\operatorname{Gaussian}(\\mu_0, \\sigma_0)\\\\\n",
    "X_i|Y_i=1&\\sim \\operatorname{Gaussian}(\\mu_1, \\sigma_1)\n",
    "\\end{aligned}\n",
    "$$\n",
    "\n",
    "Let $f(x\\mid\\mu,\\sigma)$ be the probability density function of the Gaussian distribution with mean $\\mu$ and standard deviation $\\sigma$:\n",
    "$$\n",
    "f(x\\mid\\mu,\\sigma) = \\frac1{\\sqrt{2\\pi}\\sigma}\n",
    "e^{-(x-\\mu)/2\\sigma^2}\n",
    "$$\n",
    "\n",
    "Then:\n",
    "$$\n",
    "X_i\\sim (1-p)f(x\\mid\\mu_0,\\sigma_0) + pf(x\\mid\\mu_1,\\sigma_1)\n",
    "$$\n",
    "\n",
    "Suppose:\n",
    "$$\n",
    "\\begin{aligned}\n",
    "p &= 0.7\\\\\n",
    "\\mu_0&= 0&\\sigma_0&= 0.5\\\\\n",
    "\\mu_1&= 2&\\sigma_1&=0.5\n",
    "\\end{aligned}\n",
    "$$"
   ]
  },
  {
   "cell_type": "code",
   "execution_count": 154,
   "metadata": {},
   "outputs": [
    {
     "data": {
      "image/png": "[encoded data removed]",
      "text/plain": [
       "<Figure size 640x480 with 1 Axes>"
      ]
     },
     "metadata": {},
     "output_type": "display_data"
    }
   ],
   "source": [
    "p = 0.7\n",
    "mu0 = 0; sigma0 = 0.5\n",
    "mu1 = 2; sigma1 = 0.5\n",
    "\n",
    "f0 = norm(mu0, sigma0).pdf\n",
    "f1 = norm(mu1, sigma1).pdf\n",
    "\n",
    "x = np.linspace(-2, 4, 1000)\n",
    "label = \"y = $0.3f(x\\mid0,0.5) + 0.7f(x\\mid2,0.5)$\"\n",
    "plt.plot(x, (1-p)*f0(x) + p*f1(x), lw=3, label=label)\n",
    "plt.legend()\n",
    "plt.title(\"A Mixture Density\")\n",
    "plt.xlabel(\"x\")\n",
    "plt.ylabel(\"y\");"
   ]
  },
  {
   "cell_type": "code",
   "execution_count": 155,
   "metadata": {},
   "outputs": [
    {
     "data": {
      "text/html": [
       "<div>\n",
       "<style scoped>\n",
       "    .dataframe tbody tr th:only-of-type {\n",
       "        vertical-align: middle;\n",
       "    }\n",
       "\n",
       "    .dataframe tbody tr th {\n",
       "        vertical-align: top;\n",
       "    }\n",
       "\n",
       "    .dataframe thead th {\n",
       "        text-align: right;\n",
       "    }\n",
       "</style>\n",
       "<table border=\"1\" class=\"dataframe\">\n",
       "  <thead>\n",
       "    <tr style=\"text-align: right;\">\n",
       "      <th></th>\n",
       "      <th>y</th>\n",
       "      <th>stratum</th>\n",
       "    </tr>\n",
       "    <tr>\n",
       "      <th>i</th>\n",
       "      <th></th>\n",
       "      <th></th>\n",
       "    </tr>\n",
       "  </thead>\n",
       "  <tbody>\n",
       "    <tr>\n",
       "      <th>0</th>\n",
       "      <td>1</td>\n",
       "      <td>0</td>\n",
       "    </tr>\n",
       "    <tr>\n",
       "      <th>1</th>\n",
       "      <td>2</td>\n",
       "      <td>0</td>\n",
       "    </tr>\n",
       "    <tr>\n",
       "      <th>2</th>\n",
       "      <td>4</td>\n",
       "      <td>0</td>\n",
       "    </tr>\n",
       "    <tr>\n",
       "      <th>3</th>\n",
       "      <td>4</td>\n",
       "      <td>0</td>\n",
       "    </tr>\n",
       "    <tr>\n",
       "      <th>4</th>\n",
       "      <td>7</td>\n",
       "      <td>1</td>\n",
       "    </tr>\n",
       "    <tr>\n",
       "      <th>5</th>\n",
       "      <td>7</td>\n",
       "      <td>1</td>\n",
       "    </tr>\n",
       "    <tr>\n",
       "      <th>6</th>\n",
       "      <td>7</td>\n",
       "      <td>1</td>\n",
       "    </tr>\n",
       "    <tr>\n",
       "      <th>7</th>\n",
       "      <td>8</td>\n",
       "      <td>1</td>\n",
       "    </tr>\n",
       "  </tbody>\n",
       "</table>\n",
       "</div>"
      ],
      "text/plain": [
       "   y  stratum\n",
       "i            \n",
       "0  1        0\n",
       "1  2        0\n",
       "2  4        0\n",
       "3  4        0\n",
       "4  7        1\n",
       "5  7        1\n",
       "6  7        1\n",
       "7  8        1"
      ]
     },
     "execution_count": 155,
     "metadata": {},
     "output_type": "execute_result"
    }
   ],
   "source": [
    "# cf. Example 2.1\n",
    "i = np.arange(8)\n",
    "y = np.array([1, 2, 4, 4, 7, 7, 7, 8])\n",
    "stratum = [0, 0, 0, 0, 1, 1, 1, 1]\n",
    "df = pd.DataFrame({\"i\": i, \"y\": y, \"stratum\": stratum}).set_index(\"i\")\n",
    "df"
   ]
  },
  {
   "cell_type": "code",
   "execution_count": 156,
   "metadata": {},
   "outputs": [],
   "source": [
    "def subsets(k, n):\n",
    "    \"\"\"Generate subsets of size k from {0, 1, ..., n - 1}.\"\"\"\n",
    "    if type(k) != int or type(n) != int:\n",
    "        raise ValueError(\"k and n must be integers.\")\n",
    "    if k < 0 or n < 0:\n",
    "        raise ValueError(\"k and n must be nonnegative.\")\n",
    "    if k > n:\n",
    "        raise ValueError(\"k cannot be larger than n.\")\n",
    "    if k == 0:\n",
    "        return [[]]\n",
    "    elif k == n:\n",
    "        return [list(range(n))]\n",
    "    else: # k < n\n",
    "        return subsets(k, n - 1) + [[*s, n - 1] for s in subsets(k - 1, n - 1)]"
   ]
  },
  {
   "cell_type": "code",
   "execution_count": 157,
   "metadata": {},
   "outputs": [
    {
     "name": "stdout",
     "output_type": "stream",
     "text": [
      "mean of totals (srs) = 20.00, var of totals (srs) = 13.71\n",
      "mean of totals (strat) = 20.00, var of totals (strat) = 2.50\n"
     ]
    }
   ],
   "source": [
    "simple = subsets(4, 8)\n",
    "strat = [[I[0], I[1], J[0] + 4, J[1] + 4] for I in subsets(2, 4) for J in subsets(2, 4)]\n",
    "\n",
    "total_srs = np.array([y[I].sum() for I in simple])\n",
    "total_strat = np.array([y[I].sum() for I in strat])\n",
    "\n",
    "print(f\"mean of totals (srs) = {total_srs.mean():.2f}, var of totals (srs) = {total_srs.var():.2f}\")\n",
    "print(f\"mean of totals (strat) = {total_strat.mean():.2f}, var of totals (strat) = {total_strat.var():.2f}\")\n"
   ]
  },
  {
   "cell_type": "markdown",
   "metadata": {},
   "source": [
    "## Framework for stratified sampling"
   ]
  },
  {
   "cell_type": "markdown",
   "metadata": {},
   "source": [
    "### Population\n",
    "Consider a population\n",
    "$$\n",
    "U = \\{0,\\ldots,N-1\\}.\n",
    "$$\n",
    "\n",
    "A value $y_i$ is associated to each $i\\in U$."
   ]
  },
  {
   "cell_type": "markdown",
   "metadata": {},
   "source": [
    "### Population parameters\n",
    "The population parameter $t$ (total) and $\\mu$ (mean) are defined by\n",
    "$$\n",
    "t = \\sum_{i < N}y_i,\\qquad \\mu = \\frac tN.\n",
    "$$"
   ]
  },
  {
   "cell_type": "markdown",
   "metadata": {},
   "source": [
    "### Stratification\n",
    "Suppose $U$ is partitioned into $H$ strata $U_h$, $h < H$, so that\n",
    "$$\n",
    "U = \\bigsqcup_{h<H} U_h.\n",
    "$$\n",
    "\n",
    "Write $N_h$ for the size of $U_h$, so that\n",
    "$$\n",
    "N = \\sum_{h<H} N_h.\n",
    "$$"
   ]
  },
  {
   "cell_type": "markdown",
   "metadata": {},
   "source": [
    "### Stratum parameters\n",
    "Let $t_h$ and $\\mu_h$ be the total and mean values, respectively, for the $h$-th stratum:\n",
    "$$\n",
    "t_h = \\sum_{i\\in U_h}t_i,\\qquad \\mu_h = \\frac{t_h}{N_h}\n",
    "$$\n",
    "We have:\n",
    "$$\n",
    "t = \\sum_{h<H} t_h\n",
    "$$"
   ]
  },
  {
   "cell_type": "markdown",
   "metadata": {},
   "source": [
    "### Stratified sampling; estimating population parameters\n",
    "\n",
    "Choose stratum sample sizes $n_h \\leq N_h$. Set\n",
    "$$\n",
    "n = \\sum_{h<H}n_h.\n",
    "$$\n",
    "\n",
    "Let $I_h$ be a sample of size $n_h$ drawn from $U_h$. We estimate $\\mu_h$ and $t_h$ by\n",
    "$$\n",
    "\\bar{y}_h = \\frac1{n_h}\\sum_{i\\in I_h}y_i,\\qquad\\text{and}\\qquad \\hat{t}_h = N_h\\bar{y}_h,\n",
    "$$\n",
    "respectively.\n",
    "\n",
    "We use \n",
    "$$\n",
    "\\hat{t} = \\sum_{h<H}\\hat{t}_h=\\sum_{h < H}N_h\\bar{y}_h\\qquad\\text{and}\\qquad \\bar{y} = \\frac{\\hat{t}}N = \\sum_{h<H}\\frac{N_h}N\\bar{y}_h\n",
    "$$\n",
    "as estimators of $t$ and $\\mu$, repspectively."
   ]
  },
  {
   "cell_type": "markdown",
   "metadata": {},
   "source": [
    "To get confidence intervals for $\\hat{t}$ and $\\bar{y}$, we need their standard errors.\n",
    "\n",
    "Let\n",
    "$$\n",
    "S_h = \\frac1{N_h-1}\\sum_{i\\in U_h}(y_i - \\mu_h)^2\n",
    "$$\n",
    "be the variance of stratum $h$.\n",
    "\n",
    "Then\n",
    "$$\n",
    "\\mathbb{V}(\\hat{t}) = \\sum_{h<H}\\mathbb{V}(\\hat{t}_h)\n",
    "= \\sum_{h<H}\\left(1 - \\frac{n_h}{N_h}\\right)N_h^2\\frac{S_h^2}{n_h}\n",
    "$$\n",
    "and\n",
    "$$\n",
    "\\mathbb{V}(\\bar{y}) = \\frac1{N^2}\\sum_{h<H}\\mathbb{V}(\\hat{t}_h)\n",
    "= \\sum_{h<H}\\left(1 - \\frac{n_h}{N_h}\\right)\\left(\\frac{N_h}{N}\\right)^2\\frac{S_h^2}{n_h}.\n",
    "$$\n",
    "\n",
    "To estimate these quantities, we use the sample variances\n",
    "$$\n",
    "s_h^2 = \\frac1{n_h-1}\\sum_{i\\in I_h}(y_i - \\bar{y}_h)^2\n",
    "$$\n",
    "in place of the population variances $S_h^2$. Thus,\n",
    "$$\n",
    "\\widehat{\\mathbb{V}}(\\hat{t}) = \\sum_{h<H}\\mathbb{V}(\\hat{t}_h)\n",
    "= \\sum_{h<H}\\left(1 - \\frac{n_h}{N_h}\\right)N_h^2\\frac{s_h^2}{n_h}\n",
    "$$\n",
    "and\n",
    "$$\n",
    "\\widehat{\\mathbb{V}}(\\bar{y}) = \\frac1{N^2}\\sum_{h<H}\\mathbb{V}(\\hat{t}_h)\n",
    "= \\sum_{h<H}\\left(1 - \\frac{n_h}{N_h}\\right)\\left(\\frac{N_h}{N}\\right)^2\\frac{s_h^2}{n_h}.\n",
    "$$\n",
    "\n",
    "Taking square roots yields standard errors:\n",
    "$$\n",
    "\\widehat{\\operatorname{SE}}(\\bar{y})=\\sqrt{\\widehat{\\mathbb{V}}(\\bar{y})},\\qquad\n",
    "\\widehat{\\operatorname{SE}}(\\hat{t})=\\sqrt{\\widehat{\\mathbb{V}}(\\hat{t})},\\qquad\n",
    "$$\n",
    "\n",
    "### Confidence intervals\n",
    "Approximate $100(1-\\alpha)\\%$ confidence intervals for $\\bar{y}$ and $\\hat{t}$ are given by\n",
    "$$\n",
    "\\bar{y}\\pm z_{\\alpha/2}\\widehat{\\operatorname{SE}}(\\bar{y})\\qquad\\text{and}\\qquad\n",
    "\\hat{t}\\pm z_{\\alpha/2}\\widehat{\\operatorname{SE}}(\\hat{t}),\n",
    "$$\n",
    "respectively.\n"
   ]
  },
  {
   "cell_type": "markdown",
   "metadata": {},
   "source": [
    "### Example 4.3\n",
    "\n",
    "The American Council of Learned Societies (ACLS) surveyed seven of its societies using a stratified random sample. Using their data, estimate the proportion of female members in the ACLS and the standard error of this quantity."
   ]
  },
  {
   "cell_type": "code",
   "execution_count": 163,
   "metadata": {},
   "outputs": [
    {
     "data": {
      "text/html": [
       "<div>\n",
       "<style scoped>\n",
       "    .dataframe tbody tr th:only-of-type {\n",
       "        vertical-align: middle;\n",
       "    }\n",
       "\n",
       "    .dataframe tbody tr th {\n",
       "        vertical-align: top;\n",
       "    }\n",
       "\n",
       "    .dataframe thead th {\n",
       "        text-align: right;\n",
       "    }\n",
       "</style>\n",
       "<table border=\"1\" class=\"dataframe\">\n",
       "  <thead>\n",
       "    <tr style=\"text-align: right;\">\n",
       "      <th></th>\n",
       "      <th>discipline</th>\n",
       "      <th>membership</th>\n",
       "      <th>surveys_returned</th>\n",
       "      <th>female_membership</th>\n",
       "    </tr>\n",
       "  </thead>\n",
       "  <tbody>\n",
       "    <tr>\n",
       "      <th>0</th>\n",
       "      <td>Literature</td>\n",
       "      <td>9100</td>\n",
       "      <td>636</td>\n",
       "      <td>242</td>\n",
       "    </tr>\n",
       "    <tr>\n",
       "      <th>1</th>\n",
       "      <td>Classics</td>\n",
       "      <td>1950</td>\n",
       "      <td>451</td>\n",
       "      <td>122</td>\n",
       "    </tr>\n",
       "    <tr>\n",
       "      <th>2</th>\n",
       "      <td>Philosophy</td>\n",
       "      <td>5500</td>\n",
       "      <td>481</td>\n",
       "      <td>87</td>\n",
       "    </tr>\n",
       "    <tr>\n",
       "      <th>3</th>\n",
       "      <td>History</td>\n",
       "      <td>10850</td>\n",
       "      <td>611</td>\n",
       "      <td>116</td>\n",
       "    </tr>\n",
       "    <tr>\n",
       "      <th>4</th>\n",
       "      <td>Linguistics</td>\n",
       "      <td>2100</td>\n",
       "      <td>493</td>\n",
       "      <td>177</td>\n",
       "    </tr>\n",
       "    <tr>\n",
       "      <th>5</th>\n",
       "      <td>Political science</td>\n",
       "      <td>5500</td>\n",
       "      <td>575</td>\n",
       "      <td>75</td>\n",
       "    </tr>\n",
       "    <tr>\n",
       "      <th>6</th>\n",
       "      <td>Sociology</td>\n",
       "      <td>9000</td>\n",
       "      <td>588</td>\n",
       "      <td>153</td>\n",
       "    </tr>\n",
       "  </tbody>\n",
       "</table>\n",
       "</div>"
      ],
      "text/plain": [
       "          discipline  membership  surveys_returned  female_membership\n",
       "0         Literature        9100               636                242\n",
       "1           Classics        1950               451                122\n",
       "2         Philosophy        5500               481                 87\n",
       "3            History       10850               611                116\n",
       "4        Linguistics        2100               493                177\n",
       "5  Political science        5500               575                 75\n",
       "6          Sociology        9000               588                153"
      ]
     },
     "execution_count": 163,
     "metadata": {},
     "output_type": "execute_result"
    }
   ],
   "source": [
    "discipline = [\"Literature\", \"Classics\", \"Philosophy\", \"History\", \"Linguistics\", \"Political science\", \"Sociology\"]\n",
    "membership = [9100, 1950, 5500, 10850, 2100, 5500, 9000]\n",
    "surveys_returned = [636, 451, 481, 611, 493, 575, 588]\n",
    "female_membership = [242, 122, 87, 116, 177, 75, 153]\n",
    "df = pd.DataFrame({\n",
    "    \"discipline\": discipline,\n",
    "    \"membership\": membership,\n",
    "    \"surveys_returned\": surveys_returned,\n",
    "    \"female_membership\": female_membership\n",
    "})\n",
    "df"
   ]
  },
  {
   "cell_type": "markdown",
   "metadata": {},
   "source": [
    "The variable of interest here is\n",
    "$$\n",
    "y_i=\\begin{cases}\n",
    "1&\\text{if sampling unit $i$ is female,}\\\\\n",
    "0&\\text{otherwise.}\n",
    "\\end{cases}\n",
    "$$\n",
    "\n",
    "Then\n",
    "- $\\hat{p}_h:=\\bar{y}_h$ is the proportion of females in among those surveyed in stratum $h$,\n",
    "- $\\hat{t}_h$ is the number of females among those surveyed in stratum $h$.\n",
    "\n",
    "Recall:\n",
    "$$\n",
    "\\widehat{\\mathbb{V}}(\\bar{y}) = \\frac1{N^2}\\sum_{h<H}\\mathbb{V}(\\hat{t}_h)\n",
    "= \\sum_{h<H}\\left(1 - \\frac{n_h}{N_h}\\right)\\left(\\frac{N_h}{N}\\right)^2\\frac{s_h^2}{n_h}.\n",
    "$$\n",
    "\n",
    "Exercise: Show that\n",
    "$$\n",
    "s_h^2 = \\frac{n_h\\hat{p}_h(1 - \\hat{p}_h)}{n_h - 1}.\n",
    "$$\n"
   ]
  },
  {
   "cell_type": "code",
   "execution_count": 188,
   "metadata": {},
   "outputs": [
    {
     "name": "stdout",
     "output_type": "stream",
     "text": [
      "The proportion of women is approximately 0.2535.\n",
      "The estimated standard error is 0.0071.\n"
     ]
    }
   ],
   "source": [
    "N = df.membership\n",
    "n = df.surveys_returned\n",
    "that = df.female_membership\n",
    "phat = that/n\n",
    "print(f\"The proportion of women is approximately {that.sum()/n.sum():.4f}.\")\n",
    "\n",
    "s2 = n*phat*(1 - phat)/(n - 1) # see exercise\n",
    "vh = np.sum((1 - n/N)*(N/N.sum())**2*s2/n)\n",
    "se = np.sqrt(vh)\n",
    "print(f\"The estimated standard error is {se:.4f}.\")"
   ]
  },
  {
   "cell_type": "markdown",
   "metadata": {},
   "source": [
    "### Stratum parameters\n",
    "Let $t_h$ and $\\mu_h$ be the total and mean values, respectively, for the $h$-th stratum:\n",
    "$$\n",
    "t_h = \\sum_{i\\in U_h}t_i,\\qquad \\mu_h = \\frac{t_h}{N_h}\n",
    "$$\n",
    "We have:\n",
    "$$\n",
    "t = \\sum_{h<H} t_h\n",
    "$$"
   ]
  },
  {
   "cell_type": "markdown",
   "metadata": {},
   "source": [
    "### Sampling; estimation of population parameters\n",
    "Given a sample $I$ of size $n$ drawn from $U$.\n",
    "\n",
    "Estimate the population mean $\\mu$ and the population total $t$ by the sample mean $\\bar{y}$ and $\\hat{t}$, respectively, where\n",
    "$$\n",
    "\\bar{y} = \\sum_{i\\in I}y_i,\\qquad\\text{and}\\qquad \\hat{t} = N\\bar{y},\n",
    "$$\n",
    "respectively."
   ]
  },
  {
   "cell_type": "markdown",
   "metadata": {},
   "source": [
    "### Sample stratification; estimation of stratum parameters\n",
    "\n",
    "Set\n",
    "$$\n",
    "I_h = I\\cap U_h.\n",
    "$$\n",
    "\n",
    "We estimate the stratum mean $\\mu_h$ and the stratum total $t_h$ by\n",
    "$$\n",
    "\\bar{y}_h = \\sum_{i\\in I_h}y_i,\\qquad \\hat{t}_h = N_h\\bar{y}_h.\n",
    "$$\n",
    "\n",
    "Exercise: Show that $\\mathbb{E}[\\bar{y}_h] = \\mu_h$ and that $\\mathbb{E}[\\hat{t}_h] = t_h$."
   ]
  },
  {
   "cell_type": "markdown",
   "metadata": {},
   "source": [
    "The random variable $t_h$ are independent since the samples $I_h$ are chosen independently. Therefore,\n",
    "$$\n",
    "\\mathbb{V}[\\hat{t}] = \\sum_{h<H}\\mathbb{V}[\\hat{t}_h].\n",
    "$$\n",
    "\n",
    "Since $I_h$ is a simple random sample drawn from $U_h$,\n",
    "$$\n",
    "\\mathbb{V}[\\hat{t}_h] = \\left(1 - \\frac{n_h}{N_h}\\right)N_h^2\\frac{V_h}{n_h},\n",
    "$$\n",
    "where\n",
    "$$\n",
    "V_h=\\frac{1}{N_h-1}\\sum_{i\\in U_h}(y_i - \\mu_h)^2.\n",
    "$$\n",
    "\n",
    "Therefore,\n",
    "$$\n",
    "\\mathbb{V}[\\hat{t}] = \\sum_{h<H}\\left(1 - \\frac{n_h}{N_h}\\right)N_h^2\\frac{V_h}{n_h}.\n",
    "$$"
   ]
  },
  {
   "cell_type": "markdown",
   "metadata": {},
   "source": [
    "### Proportional allocation\n",
    "Assume proportional allocation, i.e.,\n",
    "$$\n",
    "\\frac{n_h}{N_h} = \\frac{n}{N}\n",
    "$$\n",
    "for all $h$.\n",
    "\n",
    "Then\n",
    "$$\n",
    "\\begin{aligned}\n",
    "\\mathbb{V}[\\hat{t}] &= \\sum_{h<H}\\left(1 - \\frac{n_h}{N_h}\\right)N_h^2\\frac{V_h}{n_h}\\\\\n",
    "&= \\left(1 - \\frac{n}{N}\\right)\\sum_{h<H}N_h^2\\frac{V_h}{n_h}\\\\\n",
    "&= \\left(1 - \\frac{n}{N}\\right)\\frac{N_h}{n_h}\\sum_{h<H}N_hV_h\\\\\n",
    "&= \\left(1 - \\frac{n}{N}\\right)\\frac{N}{n}\\left(\\sum_{h<H}(N_h - 1)V_h + \\sum_{h<H}V_h\\right)\\\\\n",
    "&= \\left(1 - \\frac{n}{N}\\right)\\frac{N}{n}\\left(\\sum_{h<H}\\sum_{i\\in U_h}(y_i - \\mu_h)^2 + \\sum_{h<H}V_h\\right)\\\\\n",
    "&= \\left(1 - \\frac{n}{N}\\right)\\frac{N}{n}\\left(\\operatorname{SSW} + \\sum_{h<H}V_h\\right),\n",
    "\\end{aligned}\n",
    "$$\n",
    "where \n",
    "$$\n",
    "\\operatorname{SSW} = \\sum_{h<H}\\sum_{i\\in U_h}(y_i - \\mu_h)^2\n",
    "$$\n",
    "is the *sum of squares within* the strata"
   ]
  },
  {
   "cell_type": "markdown",
   "metadata": {},
   "source": [
    "$$\n",
    "\\begin{aligned}\n",
    "\\sum_{i<N}(y_i - \\mu)^2 &= \\sum_{h<H}\\sum_{i\\in U_h}(y_{i} - \\mu)^2\\\\\n",
    "&= \\sum_{h<H}\\sum_{i\\in U_h}(y_{i} - \\mu_h + \\mu_h - \\mu)^2\\\\\n",
    "&= \\sum_{h<H}\\sum_{i\\in U_h}(y_{i} - \\mu_h)^2 + \\sum_{h<H}\\sum_{i\\in U_h}(\\mu_h - \\mu)^2\n",
    "+ 2\\sum_{h<H}\\sum_{i\\in U_h}(y_{i} - \\mu_h)(\\mu_h - \\mu)\\\\\n",
    "&= \\sum_{h<H}\\sum_{i\\in U_h}(y_{i} - \\mu_h)^2 + \\sum_{h<H}N_h(\\mu_h - \\mu)^2\\\\\n",
    "&= \\operatorname{SSW} + \\operatorname{SSB},\n",
    "\\end{aligned}\n",
    "$$\n",
    "where \n",
    "$$\n",
    "\\operatorname{SSB} = \\sum_{h<H}\\sum_{i\\in U_h}(\\mu_h - \\mu)^2 = \\sum_{h<H}N_h(\\mu_h - \\mu)^2.\n",
    "$$"
   ]
  },
  {
   "cell_type": "code",
   "execution_count": null,
   "metadata": {},
   "outputs": [],
   "source": []
  }
 ],
 "metadata": {
  "kernelspec": {
   "display_name": "Python 3",
   "language": "python",
   "name": "python3"
  },
  "language_info": {
   "codemirror_mode": {
    "name": "ipython",
    "version": 3
   },
   "file_extension": ".py",
   "mimetype": "text/x-python",
   "name": "python",
   "nbconvert_exporter": "python",
   "pygments_lexer": "ipython3",
   "version": "3.11.6"
  }
 },
 "nbformat": 4,
 "nbformat_minor": 2
}
