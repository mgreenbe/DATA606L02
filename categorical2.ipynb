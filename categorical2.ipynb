{
 "cells": [
  {
   "cell_type": "code",
   "execution_count": 1,
   "metadata": {},
   "outputs": [],
   "source": [
    "import numpy as np\n",
    "import scipy.stats as stats\n",
    "import scipy.special as special\n",
    "from matplotlib import pyplot as plt"
   ]
  },
  {
   "cell_type": "markdown",
   "metadata": {},
   "source": [
    "## Wald's test\n",
    "\n",
    "Data:\n",
    "$$\n",
    "x_1,\\ldots,x_n \\sim f(x\\mid\\beta)\n",
    "$$\n",
    "\n",
    "Likelihood function:\n",
    "$$\n",
    "L_n(\\beta) = \\prod_i f(x_i\\mid\\beta)\n",
    "$$\n",
    "\n",
    "Log-likelihood function:\n",
    "$$\n",
    "\\ell_n(\\beta) = \\log L(\\beta) = \\sum_i\\log f(x_i\\mid\\beta)\n",
    "$$\n",
    "\n",
    "Maximum likelihood estimator (MLE) of $\\beta$:\n",
    "$$\n",
    "\\hat{\\beta}_n = \\operatorname{argmin} L_n(\\beta) = \\operatorname{argmin} \\ell_n(\\beta)\n",
    "$$\n",
    "\n",
    "Aymptotic variance of the MLE:\n",
    "$$\n",
    "\\sigma^2(\\hat{\\beta}_n) = -\\frac1{\\mathbb{E}[\\ell_n''(\\hat\\beta_n)]}\n",
    "$$\n",
    "\n",
    "Asymptotic normality of the MLE:\n",
    "$$\n",
    "z_n = \\frac{\\hat\\beta_n - \\beta}{\\sigma(\\hat\\beta_n)} \\longrightarrow N(0, 1)\\qquad\\text{as $n\\to\\infty$}\n",
    "$$\n",
    "\n",
    "> $w_n = z_n^2$ is called the *Wald statistic*.\n",
    "\n",
    "Hypothsis test:\n",
    "$$\n",
    "\\begin{aligned}\n",
    "H_0&: \\beta = \\beta_0,\\\\\n",
    "H_1&: \\beta \\neq \\beta_0\n",
    "\\end{aligned}\n",
    "$$\n",
    "\n",
    "$p$-value: Probability, under the null hypothesis, of a standard normal random variable giving a result more extreme than the one observed.\n",
    "$$\n",
    "p = P_{Z\\sim N(0,1)}(|Z| \\geq |z_n|)\n",
    "$$\n",
    "\n",
    "If $p\\leq \\alpha$, we reject the null hypothesis at significance level $\\alpha$."
   ]
  },
  {
   "cell_type": "markdown",
   "metadata": {},
   "source": [
    "### Problem\n",
    "\n",
    "A sequence 50 of coin tosses yields 31 heads and 19 tails.\n",
    "\n",
    "Test the hypothesis \"the coin is fair\" with significance level $\\alpha=0.05$."
   ]
  },
  {
   "cell_type": "markdown",
   "metadata": {},
   "source": [
    "### Solution\n",
    "\n",
    "Let $x_i\\in\\{0,1\\}$ be the result of the $i$-th coin toss, encoding heads as $1$ and tails as $0$. \n",
    "\n",
    "Assume $x_i\\sim \\operatorname{Bernoulli(p)}$.\n",
    "\n",
    "We're testing the null hypothesis $p = 0.5$.\n",
    "\n",
    "The MLE of $p$ given the data $x_i$, $i<50$, is:\n",
    "$$\n",
    "\\hat{p} = \\frac1{50}\\sum_ix_i = \\frac{31}{50} = 0.68\n",
    "$$\n",
    "\n",
    "We have:\n",
    "$$\n",
    "\\sigma(\\hat{p}) = \\sqrt{\\frac{\\hat{p}(1-\\hat{p})}{50}}\n",
    "$$"
   ]
  },
  {
   "cell_type": "code",
   "execution_count": 60,
   "metadata": {},
   "outputs": [
    {
     "data": {
      "text/plain": [
       "-1.748149640244195"
      ]
     },
     "execution_count": 60,
     "metadata": {},
     "output_type": "execute_result"
    }
   ],
   "source": [
    "p = 0.5\n",
    "phat = 0.38\n",
    "sigmaphat = np.sqrt(phat*(1-phat)/50)\n",
    "z = (phat - p)/sigmaphat\n",
    "z"
   ]
  },
  {
   "cell_type": "markdown",
   "metadata": {},
   "source": [
    "$$\n",
    "\\text{$p$-value} = P(|Z|>|z|) = P(Z < -|z|) + P(Z > |z|)\n",
    "$$"
   ]
  },
  {
   "cell_type": "code",
   "execution_count": 62,
   "metadata": {},
   "outputs": [
    {
     "name": "stdout",
     "output_type": "stream",
     "text": [
      "p-value = 0.08 > 0.05\n"
     ]
    }
   ],
   "source": [
    "pvalue = stats.norm.cdf(-np.abs(z)) + (1 - stats.norm.cdf(np.abs(z)))\n",
    "print(f\"p-value = {pvalue:.2f}\")"
   ]
  },
  {
   "cell_type": "markdown",
   "metadata": {},
   "source": [
    "Since the $p$-value is $0.08$ we cannot reject the null hypothesis at significance level $\\alpha=0.05$."
   ]
  },
  {
   "cell_type": "markdown",
   "metadata": {},
   "source": [
    "### Problem\n",
    "\n",
    "The following data $x_i$, $i<20$, are a random sample drawn from a Poisson distribution with unknown parameter $\\mu$:\n",
    "$$\n",
    "8,  8,  5,  7,  7,  7,  5,  4,  5,  8,  3,  9,  5,  7,  5,  6,  5, 6,  4, 10\n",
    "$$\n",
    "\n",
    "Test the null hypothesis $\\mu=5$."
   ]
  },
  {
   "cell_type": "markdown",
   "metadata": {},
   "source": [
    "### Solution\n",
    "\n",
    "We're testing the null hypothesis $\\mu = 5$.\n",
    "\n",
    "The MLE of $\\mu$ given the data $x_i$, $i<20$, is:\n",
    "$$\n",
    "\\hat{\\mu} = \\frac1{20}\\sum_ix_i = \\frac{124}{20} = 6.2\n",
    "$$\n",
    "\n",
    "We have:\n",
    "$$\n",
    "\\sigma(\\hat{\\mu}) = \\sqrt{\\frac{\\hat\\mu}{20}} = 0.31\n",
    "$$"
   ]
  },
  {
   "cell_type": "code",
   "execution_count": 89,
   "metadata": {},
   "outputs": [
    {
     "name": "stdout",
     "output_type": "stream",
     "text": [
      "z = 2.16\n"
     ]
    }
   ],
   "source": [
    "n = 20\n",
    "mu = 5\n",
    "x = np.array([8,  8,  5,  7,  7,  7,  5,  4,  5,  8,  3,  9,  5,  7,  5,  6,  5, 6,  4, 10])\n",
    "muhat = x.mean()\n",
    "sigmamuhat = np.sqrt(muhat/n)\n",
    "z = (muhat - mu)/sigmamuhat\n",
    "print(f\"z = {z:.2f}\")"
   ]
  },
  {
   "cell_type": "markdown",
   "metadata": {},
   "source": [
    "$$\n",
    "\\text{$p$-value} = P(|Z|>|z|) = P(Z < -|z|) + P(Z > |z|)\n",
    "$$"
   ]
  },
  {
   "cell_type": "code",
   "execution_count": 88,
   "metadata": {},
   "outputs": [
    {
     "name": "stdout",
     "output_type": "stream",
     "text": [
      "p-value = 0.03\n"
     ]
    }
   ],
   "source": [
    "pvalue = stats.norm.cdf(-np.abs(z)) + (1 - stats.norm.cdf(np.abs(z)))\n",
    "print(f\"p-value = {pvalue:.2f}\")"
   ]
  },
  {
   "cell_type": "markdown",
   "metadata": {},
   "source": [
    "Since the $p$-value is $0.03$ we reject the null hypothesis at significance level $\\alpha=0.05$."
   ]
  },
  {
   "cell_type": "markdown",
   "metadata": {},
   "source": [
    "## The score test\n",
    "\n",
    "Let $\\hat{\\beta_n}$ be the MLE of $\\beta$ associated to a dataset of size $n$:\n",
    "$$\n",
    "\\hat\\beta_n = \\argmax\\ell_n(\\beta)\n",
    "$$\n",
    "\n",
    "Let\n",
    "$$\n",
    "u_n(\\beta) = \\mathbb{E}[\\ell_n'(\\beta)],\\qquad v_n(\\beta) = -\\mathbb{E}[\\ell_n''(\\beta)].\n",
    "$$\n",
    "\n",
    "The *score statistic*:\n",
    "$$\n",
    "S_n = \\frac{u_n(\\hat{\\beta}_n)}{\\sqrt{v_n(\\hat{\\beta}_n)}}\n",
    "$$\n",
    "\n",
    "Asymptotic normality:\n",
    "$$\n",
    "S_n\\longrightarrow N(0,1)\\qquad \\text{as $n\\to\\infty$}\n",
    "$$\n",
    "\n",
    "$S$ is used to test the hypothesis $\\beta=\\beta_0$ just like the $Z$ is."
   ]
  },
  {
   "cell_type": "markdown",
   "metadata": {},
   "source": [
    "### Illustration"
   ]
  },
  {
   "cell_type": "code",
   "execution_count": 112,
   "metadata": {},
   "outputs": [
    {
     "data": {
      "image/png": "[encoded data removed]",
      "text/plain": [
       "<Figure size 640x480 with 1 Axes>"
      ]
     },
     "metadata": {},
     "output_type": "display_data"
    }
   ],
   "source": [
    "rng = np.random.default_rng(42)\n",
    "n = 20\n",
    "mu0 = 4\n",
    "n_iter = 1000000\n",
    "scores = np.zeros(n_iter)\n",
    "for i in range(n_iter):\n",
    "    x = stats.poisson.rvs(mu0, size=n, random_state=rng)\n",
    "    u = n*(x.mean()/mu0 - 1)\n",
    "    v = n/x.mean()\n",
    "    scores[i] = u**2/v\n",
    "\n",
    "plt.hist(scores, bins=15, density=True);\n",
    "# x = np.linspace(0, 13, 100)\n",
    "# plt.plot(x, stats.chi2(df=1).pdf(x), lw=3)\n",
    "# plt.xlim(0, 7)\n",
    "# plt.title(\"Distribution of $S_{20}$ for Poisson $x_i$ with $\\mu=4$\")"
   ]
  },
  {
   "cell_type": "markdown",
   "metadata": {},
   "source": [
    "$$\n",
    "f(\\mu\\mid x) = e^{-\\mu}\\frac{\\mu^x}{x!}\n",
    "$$\n",
    "\n",
    "$$\n",
    "\\ell_n(\\mu) = \\sum_{i < n}(-\\mu + x\\log\\mu - \\log x!) = n(-\\mu + \\bar{x}\\log\\mu - \\log x!)\n",
    "$$\n",
    "\n",
    "$$\n",
    "\\ell_n'(\\mu) = n\\left(\\frac{\\bar{x}}\\mu - 1\\right)\n",
    "$$\n",
    "\n",
    "$$\n",
    "\\ell_n'(\\mu_0) = n\\left(\\frac{\\bar{x}}{\\mu_0} - 1\\right)\n",
    "$$"
   ]
  },
  {
   "cell_type": "code",
   "execution_count": 126,
   "metadata": {},
   "outputs": [
    {
     "data": {
      "text/plain": [
       "[<matplotlib.lines.Line2D at 0x14700d890>]"
      ]
     },
     "execution_count": 126,
     "metadata": {},
     "output_type": "execute_result"
    },
    {
     "data": {
      "image/png": "[encoded data removed]",
      "text/plain": [
       "<Figure size 640x480 with 1 Axes>"
      ]
     },
     "metadata": {},
     "output_type": "display_data"
    }
   ],
   "source": [
    "plt.hist(scores, bins=np.linspace(0, 8, 25), density=True);\n",
    "plt.xlim(0, 8)\n",
    "plt.ylim(0, 1.5)\n",
    "\n",
    "t = np.arange(0.01, 10, 0.01)\n",
    "plt.plot(t, stats.chi2(df=1).pdf(t))"
   ]
  },
  {
   "cell_type": "code",
   "execution_count": 117,
   "metadata": {},
   "outputs": [
    {
     "data": {
      "text/plain": [
       "[<matplotlib.lines.Line2D at 0x146cd3390>]"
      ]
     },
     "execution_count": 117,
     "metadata": {},
     "output_type": "execute_result"
    },
    {
     "data": {
      "image/png": "[encoded data removed]",
      "text/plain": [
       "<Figure size 640x480 with 1 Axes>"
      ]
     },
     "metadata": {},
     "output_type": "display_data"
    }
   ],
   "source": [
    "t = np.arange(0.01, 10, 0.01)\n",
    "plt.plot(t, stats.chi2(df=1).pdf(t))"
   ]
  },
  {
   "cell_type": "code",
   "execution_count": 116,
   "metadata": {},
   "outputs": [
    {
     "data": {
      "text/plain": [
       "array([], dtype=float64)"
      ]
     },
     "execution_count": 116,
     "metadata": {},
     "output_type": "execute_result"
    }
   ],
   "source": [
    "t"
   ]
  },
  {
   "cell_type": "code",
   "execution_count": null,
   "metadata": {},
   "outputs": [],
   "source": []
  }
 ],
 "metadata": {
  "kernelspec": {
   "display_name": "Python 3",
   "language": "python",
   "name": "python3"
  },
  "language_info": {
   "codemirror_mode": {
    "name": "ipython",
    "version": 3
   },
   "file_extension": ".py",
   "mimetype": "text/x-python",
   "name": "python",
   "nbconvert_exporter": "python",
   "pygments_lexer": "ipython3",
   "version": "3.11.6"
  }
 },
 "nbformat": 4,
 "nbformat_minor": 2
}
