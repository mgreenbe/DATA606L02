{
 "cells": [
  {
   "cell_type": "code",
   "execution_count": 2,
   "metadata": {},
   "outputs": [],
   "source": [
    "from scipy.stats import norm\n",
    "import numpy as np\n",
    "import pandas as pd\n",
    "from matplotlib import pyplot as plt"
   ]
  },
  {
   "cell_type": "code",
   "execution_count": 3,
   "metadata": {},
   "outputs": [],
   "source": [
    "apipop = pd.read_csv(\"apipop.csv\")"
   ]
  },
  {
   "cell_type": "code",
   "execution_count": 14,
   "metadata": {},
   "outputs": [
    {
     "data": {
      "text/html": [
       "<div>\n",
       "<style scoped>\n",
       "    .dataframe tbody tr th:only-of-type {\n",
       "        vertical-align: middle;\n",
       "    }\n",
       "\n",
       "    .dataframe tbody tr th {\n",
       "        vertical-align: top;\n",
       "    }\n",
       "\n",
       "    .dataframe thead th {\n",
       "        text-align: right;\n",
       "    }\n",
       "</style>\n",
       "<table border=\"1\" class=\"dataframe\">\n",
       "  <thead>\n",
       "    <tr style=\"text-align: right;\">\n",
       "      <th></th>\n",
       "      <th>cds</th>\n",
       "      <th>stype</th>\n",
       "      <th>name</th>\n",
       "      <th>sname</th>\n",
       "      <th>snum</th>\n",
       "      <th>dname</th>\n",
       "      <th>cname</th>\n",
       "      <th>cnum</th>\n",
       "      <th>flag</th>\n",
       "      <th>pcttest</th>\n",
       "      <th>...</th>\n",
       "      <th>not.hsg</th>\n",
       "      <th>hsg</th>\n",
       "      <th>some.col</th>\n",
       "      <th>col.grad</th>\n",
       "      <th>grad.sch</th>\n",
       "      <th>avg.ed</th>\n",
       "      <th>full</th>\n",
       "      <th>emer</th>\n",
       "      <th>enroll</th>\n",
       "      <th>api.stu</th>\n",
       "    </tr>\n",
       "    <tr>\n",
       "      <th>dnum</th>\n",
       "      <th></th>\n",
       "      <th></th>\n",
       "      <th></th>\n",
       "      <th></th>\n",
       "      <th></th>\n",
       "      <th></th>\n",
       "      <th></th>\n",
       "      <th></th>\n",
       "      <th></th>\n",
       "      <th></th>\n",
       "      <th></th>\n",
       "      <th></th>\n",
       "      <th></th>\n",
       "      <th></th>\n",
       "      <th></th>\n",
       "      <th></th>\n",
       "      <th></th>\n",
       "      <th></th>\n",
       "      <th></th>\n",
       "      <th></th>\n",
       "      <th></th>\n",
       "    </tr>\n",
       "  </thead>\n",
       "  <tbody>\n",
       "    <tr>\n",
       "      <th>64</th>\n",
       "      <td>1</td>\n",
       "      <td>1</td>\n",
       "      <td>1</td>\n",
       "      <td>1</td>\n",
       "      <td>1</td>\n",
       "      <td>1</td>\n",
       "      <td>1</td>\n",
       "      <td>1</td>\n",
       "      <td>0</td>\n",
       "      <td>1</td>\n",
       "      <td>...</td>\n",
       "      <td>1</td>\n",
       "      <td>1</td>\n",
       "      <td>1</td>\n",
       "      <td>1</td>\n",
       "      <td>1</td>\n",
       "      <td>1</td>\n",
       "      <td>1</td>\n",
       "      <td>1</td>\n",
       "      <td>1</td>\n",
       "      <td>1</td>\n",
       "    </tr>\n",
       "    <tr>\n",
       "      <th>132</th>\n",
       "      <td>3</td>\n",
       "      <td>3</td>\n",
       "      <td>3</td>\n",
       "      <td>3</td>\n",
       "      <td>3</td>\n",
       "      <td>3</td>\n",
       "      <td>3</td>\n",
       "      <td>3</td>\n",
       "      <td>0</td>\n",
       "      <td>3</td>\n",
       "      <td>...</td>\n",
       "      <td>3</td>\n",
       "      <td>3</td>\n",
       "      <td>3</td>\n",
       "      <td>3</td>\n",
       "      <td>3</td>\n",
       "      <td>3</td>\n",
       "      <td>3</td>\n",
       "      <td>3</td>\n",
       "      <td>3</td>\n",
       "      <td>3</td>\n",
       "    </tr>\n",
       "    <tr>\n",
       "      <th>147</th>\n",
       "      <td>1</td>\n",
       "      <td>1</td>\n",
       "      <td>1</td>\n",
       "      <td>1</td>\n",
       "      <td>1</td>\n",
       "      <td>1</td>\n",
       "      <td>1</td>\n",
       "      <td>1</td>\n",
       "      <td>0</td>\n",
       "      <td>1</td>\n",
       "      <td>...</td>\n",
       "      <td>1</td>\n",
       "      <td>1</td>\n",
       "      <td>1</td>\n",
       "      <td>1</td>\n",
       "      <td>1</td>\n",
       "      <td>1</td>\n",
       "      <td>1</td>\n",
       "      <td>1</td>\n",
       "      <td>1</td>\n",
       "      <td>1</td>\n",
       "    </tr>\n",
       "    <tr>\n",
       "      <th>383</th>\n",
       "      <td>5</td>\n",
       "      <td>5</td>\n",
       "      <td>5</td>\n",
       "      <td>5</td>\n",
       "      <td>5</td>\n",
       "      <td>5</td>\n",
       "      <td>5</td>\n",
       "      <td>5</td>\n",
       "      <td>0</td>\n",
       "      <td>5</td>\n",
       "      <td>...</td>\n",
       "      <td>5</td>\n",
       "      <td>5</td>\n",
       "      <td>5</td>\n",
       "      <td>5</td>\n",
       "      <td>5</td>\n",
       "      <td>5</td>\n",
       "      <td>5</td>\n",
       "      <td>5</td>\n",
       "      <td>5</td>\n",
       "      <td>5</td>\n",
       "    </tr>\n",
       "    <tr>\n",
       "      <th>401</th>\n",
       "      <td>552</td>\n",
       "      <td>552</td>\n",
       "      <td>552</td>\n",
       "      <td>552</td>\n",
       "      <td>552</td>\n",
       "      <td>552</td>\n",
       "      <td>552</td>\n",
       "      <td>552</td>\n",
       "      <td>0</td>\n",
       "      <td>552</td>\n",
       "      <td>...</td>\n",
       "      <td>552</td>\n",
       "      <td>552</td>\n",
       "      <td>552</td>\n",
       "      <td>552</td>\n",
       "      <td>552</td>\n",
       "      <td>533</td>\n",
       "      <td>552</td>\n",
       "      <td>552</td>\n",
       "      <td>552</td>\n",
       "      <td>552</td>\n",
       "    </tr>\n",
       "    <tr>\n",
       "      <th>406</th>\n",
       "      <td>2</td>\n",
       "      <td>2</td>\n",
       "      <td>2</td>\n",
       "      <td>2</td>\n",
       "      <td>2</td>\n",
       "      <td>2</td>\n",
       "      <td>2</td>\n",
       "      <td>2</td>\n",
       "      <td>0</td>\n",
       "      <td>2</td>\n",
       "      <td>...</td>\n",
       "      <td>2</td>\n",
       "      <td>2</td>\n",
       "      <td>2</td>\n",
       "      <td>2</td>\n",
       "      <td>2</td>\n",
       "      <td>2</td>\n",
       "      <td>2</td>\n",
       "      <td>2</td>\n",
       "      <td>2</td>\n",
       "      <td>2</td>\n",
       "    </tr>\n",
       "    <tr>\n",
       "      <th>538</th>\n",
       "      <td>7</td>\n",
       "      <td>7</td>\n",
       "      <td>7</td>\n",
       "      <td>7</td>\n",
       "      <td>7</td>\n",
       "      <td>7</td>\n",
       "      <td>7</td>\n",
       "      <td>7</td>\n",
       "      <td>0</td>\n",
       "      <td>7</td>\n",
       "      <td>...</td>\n",
       "      <td>7</td>\n",
       "      <td>7</td>\n",
       "      <td>7</td>\n",
       "      <td>7</td>\n",
       "      <td>7</td>\n",
       "      <td>7</td>\n",
       "      <td>7</td>\n",
       "      <td>7</td>\n",
       "      <td>7</td>\n",
       "      <td>7</td>\n",
       "    </tr>\n",
       "    <tr>\n",
       "      <th>553</th>\n",
       "      <td>3</td>\n",
       "      <td>3</td>\n",
       "      <td>3</td>\n",
       "      <td>3</td>\n",
       "      <td>3</td>\n",
       "      <td>3</td>\n",
       "      <td>3</td>\n",
       "      <td>3</td>\n",
       "      <td>0</td>\n",
       "      <td>3</td>\n",
       "      <td>...</td>\n",
       "      <td>3</td>\n",
       "      <td>3</td>\n",
       "      <td>3</td>\n",
       "      <td>3</td>\n",
       "      <td>3</td>\n",
       "      <td>3</td>\n",
       "      <td>3</td>\n",
       "      <td>3</td>\n",
       "      <td>3</td>\n",
       "      <td>3</td>\n",
       "    </tr>\n",
       "    <tr>\n",
       "      <th>556</th>\n",
       "      <td>26</td>\n",
       "      <td>26</td>\n",
       "      <td>26</td>\n",
       "      <td>26</td>\n",
       "      <td>26</td>\n",
       "      <td>26</td>\n",
       "      <td>26</td>\n",
       "      <td>26</td>\n",
       "      <td>0</td>\n",
       "      <td>26</td>\n",
       "      <td>...</td>\n",
       "      <td>26</td>\n",
       "      <td>26</td>\n",
       "      <td>26</td>\n",
       "      <td>26</td>\n",
       "      <td>26</td>\n",
       "      <td>20</td>\n",
       "      <td>26</td>\n",
       "      <td>26</td>\n",
       "      <td>26</td>\n",
       "      <td>26</td>\n",
       "    </tr>\n",
       "    <tr>\n",
       "      <th>660</th>\n",
       "      <td>13</td>\n",
       "      <td>13</td>\n",
       "      <td>13</td>\n",
       "      <td>13</td>\n",
       "      <td>13</td>\n",
       "      <td>13</td>\n",
       "      <td>13</td>\n",
       "      <td>13</td>\n",
       "      <td>0</td>\n",
       "      <td>13</td>\n",
       "      <td>...</td>\n",
       "      <td>13</td>\n",
       "      <td>13</td>\n",
       "      <td>13</td>\n",
       "      <td>13</td>\n",
       "      <td>13</td>\n",
       "      <td>13</td>\n",
       "      <td>13</td>\n",
       "      <td>13</td>\n",
       "      <td>13</td>\n",
       "      <td>13</td>\n",
       "    </tr>\n",
       "    <tr>\n",
       "      <th>746</th>\n",
       "      <td>1</td>\n",
       "      <td>1</td>\n",
       "      <td>1</td>\n",
       "      <td>1</td>\n",
       "      <td>1</td>\n",
       "      <td>1</td>\n",
       "      <td>1</td>\n",
       "      <td>1</td>\n",
       "      <td>0</td>\n",
       "      <td>1</td>\n",
       "      <td>...</td>\n",
       "      <td>1</td>\n",
       "      <td>1</td>\n",
       "      <td>1</td>\n",
       "      <td>1</td>\n",
       "      <td>1</td>\n",
       "      <td>1</td>\n",
       "      <td>1</td>\n",
       "      <td>1</td>\n",
       "      <td>1</td>\n",
       "      <td>1</td>\n",
       "    </tr>\n",
       "    <tr>\n",
       "      <th>750</th>\n",
       "      <td>2</td>\n",
       "      <td>2</td>\n",
       "      <td>2</td>\n",
       "      <td>2</td>\n",
       "      <td>2</td>\n",
       "      <td>2</td>\n",
       "      <td>2</td>\n",
       "      <td>2</td>\n",
       "      <td>0</td>\n",
       "      <td>2</td>\n",
       "      <td>...</td>\n",
       "      <td>2</td>\n",
       "      <td>2</td>\n",
       "      <td>2</td>\n",
       "      <td>2</td>\n",
       "      <td>2</td>\n",
       "      <td>2</td>\n",
       "      <td>2</td>\n",
       "      <td>2</td>\n",
       "      <td>2</td>\n",
       "      <td>2</td>\n",
       "    </tr>\n",
       "    <tr>\n",
       "      <th>768</th>\n",
       "      <td>2</td>\n",
       "      <td>2</td>\n",
       "      <td>2</td>\n",
       "      <td>2</td>\n",
       "      <td>2</td>\n",
       "      <td>2</td>\n",
       "      <td>2</td>\n",
       "      <td>2</td>\n",
       "      <td>0</td>\n",
       "      <td>2</td>\n",
       "      <td>...</td>\n",
       "      <td>2</td>\n",
       "      <td>2</td>\n",
       "      <td>2</td>\n",
       "      <td>2</td>\n",
       "      <td>2</td>\n",
       "      <td>2</td>\n",
       "      <td>2</td>\n",
       "      <td>2</td>\n",
       "      <td>2</td>\n",
       "      <td>2</td>\n",
       "    </tr>\n",
       "    <tr>\n",
       "      <th>821</th>\n",
       "      <td>3</td>\n",
       "      <td>3</td>\n",
       "      <td>3</td>\n",
       "      <td>3</td>\n",
       "      <td>3</td>\n",
       "      <td>3</td>\n",
       "      <td>3</td>\n",
       "      <td>3</td>\n",
       "      <td>0</td>\n",
       "      <td>3</td>\n",
       "      <td>...</td>\n",
       "      <td>3</td>\n",
       "      <td>3</td>\n",
       "      <td>3</td>\n",
       "      <td>3</td>\n",
       "      <td>3</td>\n",
       "      <td>3</td>\n",
       "      <td>3</td>\n",
       "      <td>3</td>\n",
       "      <td>3</td>\n",
       "      <td>3</td>\n",
       "    </tr>\n",
       "    <tr>\n",
       "      <th>829</th>\n",
       "      <td>1</td>\n",
       "      <td>1</td>\n",
       "      <td>1</td>\n",
       "      <td>1</td>\n",
       "      <td>1</td>\n",
       "      <td>1</td>\n",
       "      <td>1</td>\n",
       "      <td>1</td>\n",
       "      <td>0</td>\n",
       "      <td>1</td>\n",
       "      <td>...</td>\n",
       "      <td>1</td>\n",
       "      <td>1</td>\n",
       "      <td>1</td>\n",
       "      <td>1</td>\n",
       "      <td>1</td>\n",
       "      <td>1</td>\n",
       "      <td>1</td>\n",
       "      <td>1</td>\n",
       "      <td>1</td>\n",
       "      <td>1</td>\n",
       "    </tr>\n",
       "  </tbody>\n",
       "</table>\n",
       "<p>15 rows × 36 columns</p>\n",
       "</div>"
      ],
      "text/plain": [
       "      cds  stype  name  sname  snum  dname  cname  cnum  flag  pcttest  ...  \\\n",
       "dnum                                                                    ...   \n",
       "64      1      1     1      1     1      1      1     1     0        1  ...   \n",
       "132     3      3     3      3     3      3      3     3     0        3  ...   \n",
       "147     1      1     1      1     1      1      1     1     0        1  ...   \n",
       "383     5      5     5      5     5      5      5     5     0        5  ...   \n",
       "401   552    552   552    552   552    552    552   552     0      552  ...   \n",
       "406     2      2     2      2     2      2      2     2     0        2  ...   \n",
       "538     7      7     7      7     7      7      7     7     0        7  ...   \n",
       "553     3      3     3      3     3      3      3     3     0        3  ...   \n",
       "556    26     26    26     26    26     26     26    26     0       26  ...   \n",
       "660    13     13    13     13    13     13     13    13     0       13  ...   \n",
       "746     1      1     1      1     1      1      1     1     0        1  ...   \n",
       "750     2      2     2      2     2      2      2     2     0        2  ...   \n",
       "768     2      2     2      2     2      2      2     2     0        2  ...   \n",
       "821     3      3     3      3     3      3      3     3     0        3  ...   \n",
       "829     1      1     1      1     1      1      1     1     0        1  ...   \n",
       "\n",
       "      not.hsg  hsg  some.col  col.grad  grad.sch  avg.ed  full  emer  enroll  \\\n",
       "dnum                                                                           \n",
       "64          1    1         1         1         1       1     1     1       1   \n",
       "132         3    3         3         3         3       3     3     3       3   \n",
       "147         1    1         1         1         1       1     1     1       1   \n",
       "383         5    5         5         5         5       5     5     5       5   \n",
       "401       552  552       552       552       552     533   552   552     552   \n",
       "406         2    2         2         2         2       2     2     2       2   \n",
       "538         7    7         7         7         7       7     7     7       7   \n",
       "553         3    3         3         3         3       3     3     3       3   \n",
       "556        26   26        26        26        26      20    26    26      26   \n",
       "660        13   13        13        13        13      13    13    13      13   \n",
       "746         1    1         1         1         1       1     1     1       1   \n",
       "750         2    2         2         2         2       2     2     2       2   \n",
       "768         2    2         2         2         2       2     2     2       2   \n",
       "821         3    3         3         3         3       3     3     3       3   \n",
       "829         1    1         1         1         1       1     1     1       1   \n",
       "\n",
       "      api.stu  \n",
       "dnum           \n",
       "64          1  \n",
       "132         3  \n",
       "147         1  \n",
       "383         5  \n",
       "401       552  \n",
       "406         2  \n",
       "538         7  \n",
       "553         3  \n",
       "556        26  \n",
       "660        13  \n",
       "746         1  \n",
       "750         2  \n",
       "768         2  \n",
       "821         3  \n",
       "829         1  \n",
       "\n",
       "[15 rows x 36 columns]"
      ]
     },
     "execution_count": 14,
     "metadata": {},
     "output_type": "execute_result"
    }
   ],
   "source": [
    "dnums = apipop[\"dnum\"].unique(); len(dnums)\n",
    "\n",
    "rng = np.random.default_rng()\n",
    "clusters = rng.choice(dnums, 15, replace=False)\n",
    "I = apipop.dnum.isin(clusters)\n",
    "apipop[I].groupby(\"dnum\").count()"
   ]
  },
  {
   "cell_type": "code",
   "execution_count": 242,
   "metadata": {},
   "outputs": [
    {
     "data": {
      "text/plain": [
       "144241"
      ]
     },
     "execution_count": 242,
     "metadata": {},
     "output_type": "execute_result"
    }
   ],
   "source": [
    "flights = pd.read_csv(\"clustersampleflights.csv\", usecols=[\"carrier\", \"dep_delay\"]).dropna(axis=0)\n",
    "flights.head()\n",
    "len(flights)"
   ]
  },
  {
   "cell_type": "code",
   "execution_count": 241,
   "metadata": {},
   "outputs": [
    {
     "data": {
      "text/plain": [
       "336776"
      ]
     },
     "execution_count": 241,
     "metadata": {},
     "output_type": "execute_result"
    }
   ],
   "source": [
    "flights = pd.read_csv(\"~/Downloads/2013_NYC_Flights_Data.csv\")\n",
    "len(flights)"
   ]
  },
  {
   "cell_type": "code",
   "execution_count": 91,
   "metadata": {},
   "outputs": [
    {
     "name": "stdout",
     "output_type": "stream",
     "text": [
      "Mbar = 21048.5\n"
     ]
    }
   ],
   "source": [
    "N = 16 # given\n",
    "M = 336776 # given\n",
    "Mbar = M/N\n",
    "print(f\"Mbar = {Mbar}\")"
   ]
  },
  {
   "cell_type": "code",
   "execution_count": 102,
   "metadata": {},
   "outputs": [
    {
     "data": {
      "text/plain": [
       "carrier\n",
       "UA    57979\n",
       "B6    54169\n",
       "AA    32093\n",
       "Name: count, dtype: int64"
      ]
     },
     "execution_count": 102,
     "metadata": {},
     "output_type": "execute_result"
    }
   ],
   "source": [
    "Ms = flights.carrier.value_counts()\n",
    "Ms"
   ]
  },
  {
   "cell_type": "code",
   "execution_count": 83,
   "metadata": {},
   "outputs": [
    {
     "name": "stdout",
     "output_type": "stream",
     "text": [
      "carriers = ['UA' 'AA' 'B6'] (3)\n"
     ]
    }
   ],
   "source": [
    "carriers = flights.carrier.unique()\n",
    "n = len(carriers)\n",
    "assert n == 3\n",
    "print(f\"carriers = {carriers} ({len(carriers)})\")"
   ]
  },
  {
   "cell_type": "code",
   "execution_count": 110,
   "metadata": {},
   "outputs": [
    {
     "data": {
      "text/plain": [
       "11.667043351058298"
      ]
     },
     "execution_count": 110,
     "metadata": {},
     "output_type": "execute_result"
    }
   ],
   "source": [
    "Ybar = flights.dep_delay.mean()\n",
    "Ybar"
   ]
  },
  {
   "cell_type": "code",
   "execution_count": 127,
   "metadata": {},
   "outputs": [
    {
     "data": {
      "text/plain": [
       "carrier\n",
       "AA     8.586016\n",
       "B6    13.022522\n",
       "UA    12.106073\n",
       "Name: dep_delay, dtype: float64"
      ]
     },
     "execution_count": 127,
     "metadata": {},
     "output_type": "execute_result"
    }
   ],
   "source": [
    "cluster_means = flights.groupby(\"carrier\").mean().dep_delay\n",
    "cluster_means"
   ]
  },
  {
   "cell_type": "code",
   "execution_count": 128,
   "metadata": {},
   "outputs": [
    {
     "data": {
      "text/plain": [
       "7908145773.211962"
      ]
     },
     "execution_count": 128,
     "metadata": {},
     "output_type": "execute_result"
    }
   ],
   "source": [
    "np.sum((cluster_means*Ms - Ybar*Ms)**2)/(n-1)"
   ]
  },
  {
   "cell_type": "code",
   "execution_count": 130,
   "metadata": {},
   "outputs": [
    {
     "data": {
      "text/plain": [
       "[<matplotlib.lines.Line2D at 0x28b70ecd0>]"
      ]
     },
     "execution_count": 130,
     "metadata": {},
     "output_type": "execute_result"
    },
    {
     "data": {
      "image/png": "[encoded data removed]",
      "text/plain": [
       "<Figure size 640x480 with 1 Axes>"
      ]
     },
     "metadata": {},
     "output_type": "display_data"
    }
   ],
   "source": [
    "M = np.array([55, 63, 71, 78, 52, 64, 51, 63])\n",
    "Ybar = np.array([3320, 3280, 3379, 3514, 3681, 3440, 3789, 3350])\n",
    "t = M*Ybar\n",
    "plt.plot(M, t, 'o')"
   ]
  },
  {
   "cell_type": "markdown",
   "metadata": {},
   "source": [
    "$$\n",
    "\\begin{aligned}\n",
    "\\sum_{i\\in U}\\tau_i = \\left(\\frac{\\sum_{i\\in U}\\tau_i}{\\sum_{i\\in U}M_i}\\right)\\sum_{i\\in U}M_i\n",
    "\\end{aligned}\n",
    "$$\n",
    "\n",
    "$$\n",
    "\\frac{\\sum_{i=1}^n\\tau_i}{\\sum_{i=1}^nM_i} = \n",
    "\\frac{\\sum_{i=1}^nM_i\\bar{y}_i}{\\sum_{i=1}^nM_i} = \n",
    "$$\n",
    "\n",
    "$$\n",
    "\\hat\\tau = N\\bar{y}\n",
    "$$\n",
    "\n",
    "$$\n",
    "\\left(1-\\frac n N\\right)\\frac1{n\\bar{x}_U}\\frac{\\sum(M_i\\bar{y}_i - M_i\\bar{y})^2}{n-1}\n",
    "$$\n",
    "\n",
    "$$\n",
    "\\left(1-\\frac n N\\right)\\frac{1}{\\bar{M}^2}\\frac{S^2}{n}\n",
    "$$\n",
    "\n",
    "$$\n",
    "\\bar{x}_U = \\frac{\\sum_{i=1}^N M_i}{N} = \\bar{M}\n",
    "$$"
   ]
  },
  {
   "cell_type": "markdown",
   "metadata": {},
   "source": [
    "### Problem\n",
    "A survey is to be designed to estimate how much a single-family home spends annually on utilities in a certain Alberta town. The town is divided up into 60 different *wards*, of which 8 are randomly picked. Each household in the eight randomly picked wards is then send a survey, and asked to give the yearly amount spent on gas, water, and electricity. The results are summarized in the table below. There are a total of 4200 homes in this town.\n",
    "\n",
    "| Ward | # houses | average spend per house |                  \n",
    "| ---- | -------- | ----------------------- |\n",
    "| 0    | 55       | 3320                    |\n",
    "| 1    | 63       | 3280                    |\n",
    "| 2    | 71       | 3379                    |\n",
    "| 3    | 78       | 3514                    |\n",
    "| 4    | 52       | 3681                    |\n",
    "| 5    | 64       | 3440                    |\n",
    "| 6    | 51       | 3789                    |\n",
    "| 7    | 63       | 3350                    |\n",
    "\n",
    "Estimate the average annual amount spent on utilities by a single household and the associated standard error.\n"
   ]
  },
  {
   "cell_type": "markdown",
   "metadata": {},
   "source": [
    "### Solution\n",
    "\n",
    "Let $N$ be the total number of wards (60).\n",
    "\n",
    "Let $M_i$ be the number of houses in ward $i$.\n",
    "\n",
    "Let $y_{ij}$ be the annual amount spent on utilities by home $j$ in ward $i$.\n",
    "\n",
    "We want to estimate the population mean\n",
    "$$\n",
    "B = \\frac{\\displaystyle\\sum_{i<N}\\sum_{j<M_i}y_{ij}}{\\displaystyle\\sum_{i<N}M_i}.\n",
    "$$\n",
    "\n",
    "Let $y_i$ be the average annual amount spent on utilities by a home in ward $i$:\n",
    "$$\n",
    "\\displaystyle \\bar{y}_i = \\frac{\\displaystyle\\sum_{j < M_i}y_{ij}}{M_i}.\n",
    "$$\n",
    "Then\n",
    "$$B = \\frac{\\displaystyle\\sum_{i<N}M_i\\bar{y}_i}{\\displaystyle\\sum_{i<N}M_i}.$$\n",
    "\n",
    "Note that $B$ is a *ratio*."
   ]
  },
  {
   "cell_type": "markdown",
   "metadata": {},
   "source": [
    "### Estimation of $B$\n",
    "\n",
    "Let $n$ be the number of wards surveyed (8).\n",
    "\n",
    "We estimate $B$ by the sample ratio:\n",
    "$$\\hat{B} = \\frac{\\displaystyle\\sum_{i<n}M_i\\bar{y}_i}{\\displaystyle\\sum_{i<n}M_i}.$$\n",
    "\n",
    "Note that $M_i$ and $\\bar{y}_i$, $i<n$, are given in the second and third columns of the data table, respectively."
   ]
  },
  {
   "cell_type": "code",
   "execution_count": 165,
   "metadata": {},
   "outputs": [
    {
     "name": "stdout",
     "output_type": "stream",
     "text": [
      "The average annual amount spent on utilities by a single household is approximately $3458.\n"
     ]
    }
   ],
   "source": [
    "Mi = np.array([55, 63, 71, 78, 52, 64, 51, 63])\n",
    "ybari = np.array([3320, 3280, 3379, 3514, 3681, 3440, 3789, 3350])\n",
    "Bhat = np.sum(Mi*ybari)/Mi.sum()\n",
    "print(f\"The average annual amount spent on utilities by a single household is approximately ${int(Bhat)}.\")"
   ]
  },
  {
   "cell_type": "markdown",
   "metadata": {},
   "source": [
    "### Standard error of $\\hat{B}$\n",
    "\n",
    "Converting the formula for the variance of a ratio estimator into the notation of this problem, we have:\n",
    "$$\n",
    "\\mathbb{V}(\\hat{B}) = \\left(1-\\frac nN\\right)\\left(\\frac{N}{M}\\right)\\frac{s^2}{n},\n",
    "$$\n",
    "where\n",
    "$$\n",
    "M =\\sum_{i < N}M_i\\qquad\\text{and}\\qquad s^2 = \\frac1{n-1}\\sum_{i=1}^n(M_i\\bar{y}_i - M_i\\hat{B})^2.\n",
    "$$\n",
    "\n",
    "Note that $M=4200$."
   ]
  },
  {
   "cell_type": "code",
   "execution_count": 157,
   "metadata": {},
   "outputs": [
    {
     "name": "stdout",
     "output_type": "stream",
     "text": [
      "The standard error of Bhat is approximately 47.\n",
      "The 95% confidence interval for Bhat is [3366, 3551].\n"
     ]
    }
   ],
   "source": [
    "N = 60\n",
    "n = 8\n",
    "M = 4200\n",
    "s2 = np.sum((Mi*ybari - Mi*Bhat)**2)/(n-1)\n",
    "v = (1-n/N)*(N/M)**2*s2/n\n",
    "se = np.sqrt(v)\n",
    "print(f\"The standard error of Bhat is approximately {int(se)}.\")\n",
    "print(f\"The 95% confidence interval for Bhat is [{int(Bhat - 1.96*se)}, {int(Bhat + 1.96*se)}].\")"
   ]
  },
  {
   "cell_type": "markdown",
   "metadata": {},
   "source": [
    "### Problem\n",
    "\n",
    " A company is considering revising its retirement policy and wants to estimate the proportion of employees that favour the new policy. This company owns 87 separate manufacturing plants. Because decisions about the retirement policy are urgent, data must be collected and throughly analyzed in a quick manner (with little cost). A simple random sample of 10 plants is chosen, and the opinion of each worker in each chosen plant is recorded. Here are the results:\n",
    " \n",
    "| Plant | # employees | # in favor |                  \n",
    "| ----- | ----------- | ---------- |\n",
    "| 0     | 55          | 41         |\n",
    "| 1     | 62          | 53         |\n",
    "| 2     | 73          | 45         |\n",
    "| 3     | 101         | 63         |\n",
    "| 4     | 73          | 54         |\n",
    "| 5     | 61          | 45         |\n",
    "| 6     | 58          | 51         |\n",
    "| 7     | 65          | 46         |\n",
    "| 8     | 49          | 37         |\n",
    "| 9     | 55          | 42         |\n",
    "\n",
    "Estimate the proportion of all employees that are in favor of the new retirement policy, with 95% confidence."
   ]
  },
  {
   "cell_type": "markdown",
   "metadata": {},
   "source": [
    "### Solution\n",
    "\n",
    "Let $N$ be the total number of plants (87).\n",
    "\n",
    "Let $M_i$ be the number of employees at the $i$-th plant. Then the total number of employees at all plants is\n",
    "$$\n",
    "M = \\sum_{i<N}M_i\n",
    "$$\n",
    "\n",
    "For $i<N$ $y_{ij}$, be $1$ if the $j$-th employee at the $i$-th plant supports the retirement policy revision and $0$ otherwise. Then\n",
    "$$\n",
    "B = \\frac{\\displaystyle\\sum_{i<n}\\sum_{j<M_i}y_{ij}}{\\displaystyle\\sum_{i<N}M_i}\n",
    "$$\n",
    "is the proportion of employees at all plants who support the revision.\n",
    "\n",
    "As in the previous example, we estimate $B$ by\n",
    "$$\\hat{B} = \\frac{\\displaystyle\\sum_{i<n}M_i\\bar{y}_i}{\\displaystyle\\sum_{i<n}M_i},\n",
    "\\qquad\\text{where}\\qquad\n",
    "\\bar{y}_i = \\frac1{M_i}\\sum_{j < M_i}y_{ij}\n",
    "$$\n",
    "is the proportion of employees at plant $i$ who support the retirement policy revision."
   ]
  },
  {
   "cell_type": "code",
   "execution_count": 164,
   "metadata": {},
   "outputs": [
    {
     "name": "stdout",
     "output_type": "stream",
     "text": [
      "The proportion of employees who support the retirement policy revision is approximately 0.73.\n"
     ]
    }
   ],
   "source": [
    "Mi = np.array([55, 62, 73, 101, 73, 61, 58, 65, 49, 55])\n",
    "ybari = np.array([41, 53, 45, 63, 54, 45, 51, 46, 37, 42])/Mi\n",
    "Bhat = np.sum(Mi*ybari)/Mi.sum()\n",
    "print(f\"The proportion of employees who support the retirement policy revision is approximately {Bhat:.2f}.\")"
   ]
  },
  {
   "cell_type": "markdown",
   "metadata": {},
   "source": [
    "Although we don't know $M$, we can still estimate\n",
    "$$\n",
    "\\mathbb{V}(\\hat{B}) = \\left(1-\\frac nN\\right)\\left(\\frac{N}{M}\\right)\\frac{s^2}{n}\n",
    "$$\n",
    "using the approximation\n",
    "$$\n",
    "\\frac{M}{N} \\approx \\dfrac{m}{n}\\qquad\\text{where}\\qquad m = \\sum_{i<N}M_i.\n",
    "$$\n"
   ]
  },
  {
   "cell_type": "code",
   "execution_count": 163,
   "metadata": {},
   "outputs": [
    {
     "name": "stdout",
     "output_type": "stream",
     "text": [
      "The standard error of Bhat is approximately 0.\n",
      "The 95% confidence interval for Bhat is [0.68, 0.79].\n"
     ]
    }
   ],
   "source": [
    "N = 87\n",
    "n = 10\n",
    "m = Mi.sum()\n",
    "s2 = np.sum((Mi*ybari - Mi*Bhat)**2)/(n-1)\n",
    "v = (1-n/N)*(n/m)**2*s2/n\n",
    "se = np.sqrt(v)\n",
    "print(f\"The standard error of Bhat is approximately {int(se)}.\")\n",
    "print(f\"The 95% confidence interval for Bhat is [{Bhat - 1.96*se:.2f}, {Bhat + 1.96*se:.2f}].\")"
   ]
  },
  {
   "cell_type": "markdown",
   "metadata": {},
   "source": [
    "## Systematic sampling\n",
    "\n",
    "Let $U=\\{0,1\\ldots,M-1\\}$ be a population of size $M$.\n",
    "\n",
    "A systematic sample of a population with period $n\\geq 1$ is a sample of the form\n",
    "$$\n",
    "C_i = \\{i, i + N, i + 2N, \\ldots, i + (M_i-1)N\\},\n",
    "$$\n",
    "for some choice of $i < N$, where\n",
    "$$\n",
    "M_i = \\left\\lfloor\\frac{M-i-1}{N}\\right\\rfloor + 1.\n",
    "$$\n",
    "\n",
    "$M_i$ is defined this way so that $C_i$ has size $M_i$. (Exercise: Justify this.)\n",
    "\n",
    "The sets $C_0,\\ldots,C_{N-1}$ form a *clustering* of $U$ of size $N$.\n",
    "\n",
    "Our systematic sample $C_i$ of $U$ is a clustered sampling of $U$ with $n=1$.\n",
    "\n",
    "\n",
    "\n",
    "\n",
    "\n"
   ]
  },
  {
   "cell_type": "markdown",
   "metadata": {},
   "source": [
    "### Example\n",
    "Suppoes $M=520$ and $N=25$. Compute $M_i$ for $i<25$.\n",
    "\n",
    "### Solution"
   ]
  },
  {
   "cell_type": "code",
   "execution_count": 196,
   "metadata": {},
   "outputs": [
    {
     "data": {
      "text/plain": [
       "array([21, 21, 21, 21, 21, 21, 21, 21, 21, 21, 21, 21, 21, 21, 21, 21, 21,\n",
       "       21, 21, 21, 20, 20, 20, 20, 20])"
      ]
     },
     "execution_count": 196,
     "metadata": {},
     "output_type": "execute_result"
    }
   ],
   "source": [
    "M = 520\n",
    "N = 25\n",
    "Mi = np.floor((K - np.arange(N) - 1)/N).astype(int) + 1\n",
    "assert Mi.sum() == M # check\n",
    "assert all([i + (Mi[i] - 1)*N < M and i + Mi[i]*N >= M for i in range(N)]) # check\n",
    "Mi"
   ]
  },
  {
   "cell_type": "markdown",
   "metadata": {},
   "source": []
  },
  {
   "cell_type": "markdown",
   "metadata": {},
   "source": [
    "### Example\n",
    "\n",
    "A forester wants to estimate the average amount of timber volume per acre in a region that consists of 520 one-acre plots. A systematic sample was with period $N=25$ was chosen at random. It produced the following data:\n",
    "\n",
    "| Plot | Volume | Plot | Volume |\n",
    "| ---- | ------ | ---- | ------ |\n",
    "| 3    | 7030   | 278  | 7540   |\n",
    "| 28   | 6720   | 303  | 6720   |\n",
    "| 53   | 6850   | 328  | 6900   |\n",
    "| 78   | 7210   | 353  | 7200   |\n",
    "| 103  | 7150   | 378  | 7100   |\n",
    "| 128  | 7375   | 403  | 6960   |\n",
    "| 153  | 7200   | 428  | 6850   |\n",
    "| 178  | 6950   | 453  | 7125   |\n",
    "| 203  | 6670   | 478  | 7485   |\n",
    "| 228  | 6970   | 503  | 7090   |\n",
    "| 253  | 7280   |      |        |"
   ]
  },
  {
   "cell_type": "code",
   "execution_count": 199,
   "metadata": {},
   "outputs": [
    {
     "data": {
      "text/plain": [
       "array([21, 21, 21, 21, 21, 21, 21, 21, 21, 21, 21, 21, 21, 21, 21, 21, 21,\n",
       "       21, 21, 21, 20, 20, 20, 20, 20])"
      ]
     },
     "execution_count": 199,
     "metadata": {},
     "output_type": "execute_result"
    }
   ],
   "source": [
    "M = 520\n",
    "N = 25\n",
    "Mi = np.floor((K - np.arange(N) - 1)/N).astype(int) + 1\n",
    "assert Mi.sum() == M # check\n",
    "assert all([i + (Mi[i] - 1)*N < M and i + Mi[i]*N >= M for i in range(N)]) # check\n",
    "Mi"
   ]
  },
  {
   "cell_type": "markdown",
   "metadata": {},
   "source": [
    "$$\n",
    "\\hat{B} = \\frac{M_i\\bar{y}_i}{M_i} = \\bar{y}_i\n",
    "$$\n",
    "The average timber volume per acre is:"
   ]
  },
  {
   "cell_type": "code",
   "execution_count": 200,
   "metadata": {},
   "outputs": [
    {
     "data": {
      "text/plain": [
       "7065.476190476191"
      ]
     },
     "execution_count": 200,
     "metadata": {},
     "output_type": "execute_result"
    }
   ],
   "source": [
    "yij = np.array([7030, 6720, 6850, 7210, 7150, 7375, 7200, 6950, 6670, 6970, 7280, 7540, 6720, 6900, 7200, 7100, 6960, 6850, 7125, 7485, 7090])\n",
    "ybari = yij.mean()\n",
    "ybari"
   ]
  },
  {
   "cell_type": "markdown",
   "metadata": {},
   "source": [
    "$$\n",
    "\\mathbb{V}(\\hat{B}) = \\left(1-\\frac 1N\\right)\\left(\\frac{N}{M}\\right)s^2,\\qquad\n",
    "s^2 = \\frac1{n-1}\\sum_{i=1}^n(M_i\\bar{y}_i - M_i\\hat{B})^2.\n",
    "$$\n"
   ]
  },
  {
   "cell_type": "code",
   "execution_count": 236,
   "metadata": {},
   "outputs": [
    {
     "data": {
      "text/plain": [
       "51.542590314651186"
      ]
     },
     "execution_count": 236,
     "metadata": {},
     "output_type": "execute_result"
    }
   ],
   "source": [
    "n = Mi[3]\n",
    "s = np.sqrt(np.sum((yij - ybari)**2)/(n-1))\n",
    "se = np.sqrt(1-n/M)*s/np.sqrt(n)\n",
    "se\n"
   ]
  },
  {
   "cell_type": "code",
   "execution_count": 237,
   "metadata": {},
   "outputs": [
    {
     "data": {
      "text/plain": [
       "(6964.452713459475, 7166.499667492907)"
      ]
     },
     "execution_count": 237,
     "metadata": {},
     "output_type": "execute_result"
    }
   ],
   "source": [
    "yij.mean() - 1.96*se ,yij.mean() + 1.96*se"
   ]
  },
  {
   "cell_type": "code",
   "execution_count": null,
   "metadata": {},
   "outputs": [],
   "source": []
  }
 ],
 "metadata": {
  "kernelspec": {
   "display_name": "Python 3",
   "language": "python",
   "name": "python3"
  },
  "language_info": {
   "codemirror_mode": {
    "name": "ipython",
    "version": 3
   },
   "file_extension": ".py",
   "mimetype": "text/x-python",
   "name": "python",
   "nbconvert_exporter": "python",
   "pygments_lexer": "ipython3",
   "version": "3.11.6"
  }
 },
 "nbformat": 4,
 "nbformat_minor": 2
}
